{
 "cells": [
  {
   "cell_type": "markdown",
   "metadata": {},
   "source": [
    "# Praktikum 4\n",
    "- Ekstraksi Fitur Data Tidak Terstruktur\n",
    "- Mengekstraksi fitur dari sebuah citra\n",
    "\n",
    "#### Langkah 0 - Instal Pillow\n",
    "Pillow : library untuk memproses dan memanipulasi gambar."
   ]
  },
  {
   "cell_type": "code",
   "execution_count": 1,
   "metadata": {},
   "outputs": [
    {
     "name": "stdout",
     "output_type": "stream",
     "text": [
      "Requirement already satisfied: Pillow in c:\\users\\pjbs\\anaconda3\\lib\\site-packages (10.3.0)\n"
     ]
    }
   ],
   "source": [
    "!pip install Pillow"
   ]
  },
  {
   "cell_type": "code",
   "execution_count": 7,
   "metadata": {},
   "outputs": [],
   "source": [
    "from PIL import Image\n",
    " \n",
    "img = Image.open('img/odi.jpg')\n",
    "img.show() # tampilkan gambar"
   ]
  },
  {
   "cell_type": "code",
   "execution_count": 6,
   "metadata": {},
   "outputs": [
    {
     "name": "stdout",
     "output_type": "stream",
     "text": [
      "256\n",
      "[17, 21, 24, 28, 43, 59, 70, 117, 121, 140, 141, 140, 164, 184, 227, 223, 291, 294, 272, 296, 326, 337, 365, 358, 331, 352, 350, 328, 361, 344, 353, 374, 352, 384, 371, 418, 448, 460, 556, 483, 499, 491, 517, 491, 469, 552, 528, 517, 542, 519, 508, 511, 555, 520, 547, 537, 588, 598, 624, 635, 679, 675, 675, 705, 772, 773, 830, 809, 736, 806, 766, 775, 812, 866, 853, 861, 867, 868, 853, 871, 948, 1009, 969, 1044, 1027, 965, 945, 896, 968, 1006, 1014, 921, 855, 835, 781, 850, 860, 840, 921, 969, 1037, 966, 908, 988, 962, 1034, 1036, 1073, 1018, 981, 977, 995, 1072, 1059, 1154, 1147, 1092, 1072, 1182, 1124, 1222, 1277, 1353, 1368, 1377, 1267, 1210, 1221, 1290, 1221, 1414, 1533, 1640, 1587, 1455, 1519, 1430, 1583, 1619, 1852, 1753, 1649, 1553, 1505, 1516, 1604, 1689, 1794, 1974, 1948, 1899, 1907, 1969, 1909, 2210, 2278, 2288, 2398, 2394, 2216, 2258, 2499, 2452, 2730, 2879, 2826, 2730, 2439, 2433, 2647, 3445, 4565, 7320, 10224, 6177, 4981, 4238, 4275, 4925, 5938, 7567, 11345, 6951, 5759, 5347, 5227, 5490, 6877, 8016, 8885, 8528, 7841, 7093, 7231, 8583, 10842, 14614, 19634, 14833, 11365, 8631, 7274, 6835, 7472, 8597, 11549, 15889, 9977, 6702, 4738, 3483, 2823, 2656, 2631, 2297, 1632, 1116, 792, 506, 321, 209, 154, 92, 65, 55, 23, 14, 7, 6, 1, 2, 2, 1, 0, 0, 1, 0, 2, 0, 0, 0, 1, 1, 0, 0, 0, 0, 0, 0, 0, 0, 0, 0, 0, 0, 0]\n"
     ]
    }
   ],
   "source": [
    "# Ekstrak setiap channel red, green, blue\n",
    "r, g, b = img.split()\n",
    "\n",
    "# Cek panjang ukuran channel red\n",
    "print(len(r.histogram()))\n",
    "\n",
    "# fitur histogram pada channel red\n",
    "print(r.histogram())"
   ]
  },
  {
   "cell_type": "code",
   "execution_count": null,
   "metadata": {},
   "outputs": [],
   "source": []
  }
 ],
 "metadata": {
  "kernelspec": {
   "display_name": "base",
   "language": "python",
   "name": "python3"
  },
  "language_info": {
   "codemirror_mode": {
    "name": "ipython",
    "version": 3
   },
   "file_extension": ".py",
   "mimetype": "text/x-python",
   "name": "python",
   "nbconvert_exporter": "python",
   "pygments_lexer": "ipython3",
   "version": "3.12.4"
  },
  "orig_nbformat": 4
 },
 "nbformat": 4,
 "nbformat_minor": 2
}
