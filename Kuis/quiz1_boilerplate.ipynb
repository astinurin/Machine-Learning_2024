{
 "cells": [
  {
   "cell_type": "markdown",
   "metadata": {},
   "source": [
    "# KUIS 1 PEMBELAJARAN MESIN\n",
    "Klasifikasi SVM Pada Data Citra\n",
    "# Intro\n",
    "\n",
    "Pada kuis ini, Anda diminta untuk melakukan klasifikasi citra wajah dengan menggunakan dataset Labeled Face in Wild (LFW).\n",
    "Spesifikasi pengerjaan kuis yang harus dipehuni adalah,\n",
    "\n",
    "1. Setiap label dari dataset LFW harus berisikan minimal 10 gambar (5 poin)\n",
    "2. Citra yang digunakan merupakan citra RGB / color (5 poin)\n",
    "3. (Opsional) Lakukan proses pra pengolahan data jika diperlukan (ekstra 10 poin)\n",
    "4. (Wajib) Gunakan fitur histogram untuk setiap channel citra (35 poin)\n",
    "5. (Wajib) Gunakan algoritma SVM sebagai model dasar (35 poin)\n",
    "6. (Wajib) Gunakan metric akurasi, dan *classification report* untuk melihat performa model (20 poin)\n",
    "\n",
    "## Challenge \n",
    "Setelah menyelesaikan kuis berdasarkan spesifikasi wajib, Anda diperkenankan untuk\n",
    "\n",
    "- Menggunakan fitur lain selain histogram (ekstra 20 poin)\n",
    "- Menggunakan model lain selain SVM (ekstra 10 poin)\n",
    "- Evalusi dengan metric lain ataupun report dengan *confusion matrix* (ekstra 10 poin)"
   ]
  },
  {
   "cell_type": "markdown",
   "metadata": {},
   "source": [
    "# Boilerplate\n",
    "\n",
    "Berikut merupakan boilerplate code yang dapat Anda gunakan sebagai acuan dasar pengerjaan kuis.\n",
    "Anda diperkenankan untuk **menambah** ataupun **mengurangi** bagian boilerplate yang disediakan."
   ]
  },
  {
   "cell_type": "markdown",
   "metadata": {},
   "source": [
    "---"
   ]
  },
  {
   "cell_type": "markdown",
   "metadata": {},
   "source": [
    "# Preparation"
   ]
  },
  {
   "cell_type": "code",
   "execution_count": null,
   "metadata": {},
   "outputs": [],
   "source": [
    "# Load required library\n",
    "# Import Required Library\n",
    "import numpy as np\n",
    "import pandas as pd\n",
    "from sklearn.datasets import fetch_lfw_people\n",
    "from sklearn.model_selection import train_test_split\n",
    "from sklearn.svm import SVC\n",
    "from sklearn.metrics import confusion_matrix, accuracy_score, classification_report\n",
    "import matplotlib.pyplot as plt\n",
    "import seaborn as sns"
   ]
  },
  {
   "cell_type": "markdown",
   "metadata": {},
   "source": [
    "# Load Data"
   ]
  },
  {
   "cell_type": "code",
   "execution_count": null,
   "metadata": {},
   "outputs": [],
   "source": [
    "# Load Dataset\n",
    "# We will load dataset only for faces with contain min 10 images\n",
    "# We also want to keep images in color; color=True\n",
    "faces = fetch_lfw_people(min_faces_per_person=10, color=True)\n",
    "\n",
    "# Check Faces\n",
    "print(f'Total Label: {len(faces.target_names)}')\n",
    "print(f'Data dimension: {faces.images.shape}')\n",
    "print(f'Images flatten dimension: {faces.data.shape}')"
   ]
  },
  {
   "cell_type": "code",
   "execution_count": null,
   "metadata": {},
   "outputs": [],
   "source": [
    "# Check by Plotted Images\n",
    "# Generate random 15 images\n",
    "rand_labels = [np.random.randint(0, len(faces.data)) for x in range(0,15)]\n",
    "\n",
    "fig, ax = plt.subplots(3, 5)\n",
    "fig.tight_layout()\n",
    "for i, axi in enumerate(ax.flat):\n",
    "    axi.imshow(faces.images[rand_labels[i]], cmap='bone')\n",
    "    axi.set(xticks=[], yticks=[],\n",
    "            xlabel=faces.target_names[faces.target[rand_labels[i]]])"
   ]
  },
  {
   "cell_type": "markdown",
   "metadata": {},
   "source": [
    "# Preprocessing"
   ]
  },
  {
   "cell_type": "code",
   "execution_count": null,
   "metadata": {},
   "outputs": [],
   "source": [
    "'''\n",
    "    Pada bagian ini Anda diperbolehkan untuk melakukan proses pra pengolahan data (preprocessing) sesuai dengan kebutuhan. Pra pengolahan data dapat berupa,\n",
    "    \n",
    "    1. Standardisasi nilai fitur ataupun label\n",
    "    2. Penyesuaian ukuran gambar\n",
    "    3. Perubahan colorspace gambar\n",
    "    4. dsb\n",
    "'''"
   ]
  },
  {
   "cell_type": "markdown",
   "metadata": {},
   "source": [
    "# Features Extraction"
   ]
  },
  {
   "cell_type": "code",
   "execution_count": null,
   "metadata": {},
   "outputs": [],
   "source": [
    "'''\n",
    "    Pada bagian ini, lakukan proses ekstraksi fitur yang diminta, yaitu histogram tiap channel.\n",
    "    Terdapat banyak cara untuk melakukan ekstraksi fitur histrogram.\n",
    "\n",
    "    Hints:\n",
    "        Salah satu cara untuk melakukan ekstraksi fitur histrogram adalah,\n",
    "        Anda dapat menggunakan fungsi np.histrogram dari library numpy\n",
    "'''"
   ]
  },
  {
   "cell_type": "markdown",
   "metadata": {},
   "source": [
    "# Build Model"
   ]
  },
  {
   "cell_type": "code",
   "execution_count": null,
   "metadata": {},
   "outputs": [],
   "source": [
    "'''\n",
    "    Pada bagian ini lakukan proses pembuatan model,\n",
    "\n",
    "    1. Pembuatan data training dan data testing\n",
    "    2. Pembuatan objek model\n",
    "    3. Proses fitting model\n",
    "'''"
   ]
  },
  {
   "cell_type": "markdown",
   "metadata": {},
   "source": [
    "# Evaluation"
   ]
  },
  {
   "cell_type": "code",
   "execution_count": null,
   "metadata": {},
   "outputs": [],
   "source": [
    "'''\n",
    "    Pada bagian ini, lakukan evaluasi terhadap data training dan data testing\n",
    "    dengan menggunakan metric akurasi dan juga classfication report\n",
    "\n",
    "    Hints:\n",
    "        Anda dapat menggunakan referensi Jobseet 4 Percobaan 5\n",
    "'''"
   ]
  }
 ],
 "metadata": {
  "kernelspec": {
   "display_name": "base",
   "language": "python",
   "name": "python3"
  },
  "language_info": {
   "name": "python",
   "version": "3.11.4"
  }
 },
 "nbformat": 4,
 "nbformat_minor": 2
}
